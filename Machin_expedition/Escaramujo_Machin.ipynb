{
 "cells": [
  {
   "cell_type": "markdown",
   "metadata": {},
   "source": [
    "# Análisis de datos del detector Escaramujo - Machín"
   ]
  },
  {
   "cell_type": "markdown",
   "metadata": {},
   "source": [
    "En este informe se presentan los resultados del análisis de datos registrados por el detector Escaramujo \n",
    "en el volcán Cerro Machín para medir el fondo de radiación del sitio."
   ]
  },
  {
   "cell_type": "markdown",
   "metadata": {},
   "source": [
    "### Configuración del instrumento"
   ]
  },
  {
   "cell_type": "markdown",
   "metadata": {},
   "source": [
    "El instrumento se dispuso apuntando en un ángulo de cero grados respecto al zenith con una distancia entre placas de 5 cm. El voltaje de polarizaciónde los canales se estableció en 29.5 V."
   ]
  },
  {
   "cell_type": "markdown",
   "metadata": {},
   "source": [
    "### Comandos básicos"
   ]
  },
  {
   "cell_type": "markdown",
   "metadata": {},
   "source": [
    "minicom\n",
    "    \n",
    "    DG        Acceso al GPS\n",
    "    TH        Acceso a los datos de temperatura\n",
    "    TL 4 30   Establece los umbrales de discriminación de los 4 canales en 300 mV\n",
    "    WC 00 27  Establece la triple coincidencia entre los tres primeros canales CH0,CH1 y CH2\n",
    "    CE        Inicia el registro\n",
    "    \n",
    "    CTRL + A  Z   Ayuda\n",
    "    CTRL + A  X   Salir del minicom"
   ]
  },
  {
   "cell_type": "code",
   "execution_count": 1,
   "metadata": {
    "collapsed": true
   },
   "outputs": [],
   "source": [
    "import sys \n",
    "import numpy as np\n",
    "from datetime import datetime\n",
    "from glob import glob\n",
    "import matplotlib.pyplot as plt\n",
    "\n",
    "# This ensures visualizations are plotted inside the notebook\n",
    "%matplotlib inline"
   ]
  },
  {
   "cell_type": "code",
   "execution_count": 2,
   "metadata": {
    "collapsed": false
   },
   "outputs": [],
   "source": [
    "# Load the recorded data at Machin volcanoe\n",
    "\n",
    "path = \"data/Escaramujo/Machin_Zenith_06.dat\"\n",
    "file = open(path,\"r\")\n",
    "    \n",
    "# Set rising and falling edge vectors\n",
    "\n",
    "re0 = [] \n",
    "fe0 = []\n",
    "re1 = [] \n",
    "fe1 = []\n",
    "re2 = [] \n",
    "fe2 = []\n",
    "tiempo = [] \n",
    "for line in file:\n",
    "    lst = line.split(' ')\n",
    "    if lst[0] != \"ST\":\n",
    "        #print lst[0]\n",
    "        tiempo.append(lst[10])\n",
    "        re0.append(lst[1])\n",
    "        fe0.append(lst[2])\n",
    "        re1.append(lst[3])\n",
    "        fe1.append(lst[4])\n",
    "        re2.append(lst[5])\n",
    "        fe2.append(lst[6])"
   ]
  },
  {
   "cell_type": "code",
   "execution_count": 3,
   "metadata": {
    "collapsed": false
   },
   "outputs": [
    {
     "name": "stdout",
     "output_type": "stream",
     "text": [
      "Numero de eventos validos: 4931\n"
     ]
    }
   ],
   "source": [
    "# Convert rising and falling edge words from hexadecimal to binary values for determining valid events\n",
    "\n",
    "N = len(re0)\n",
    "\n",
    "re0_bi = []\n",
    "fe0_bi = [] \n",
    "re1_bi = []\n",
    "fe1_bi = []\n",
    "re2_bi = []\n",
    "fe2_bi = []\n",
    "\n",
    "for i in range (N): \n",
    "        bi0 = \"{0:08b}\".format(int(re0[i], 16))\n",
    "        re0_bi.append(bi0) \n",
    "        bif0 = \"{0:08b}\".format(int(fe0[i], 16))\n",
    "        fe0_bi.append(bif0)  \n",
    "        bi1 = \"{0:08b}\".format(int(re1[i], 16))\n",
    "        re1_bi.append(bi1) \n",
    "        bif1 = \"{0:08b}\".format(int(fe1[i], 16))\n",
    "        fe1_bi.append(bif1)\n",
    "        bi2 = \"{0:08b}\".format(int(re2[i], 16))\n",
    "        re2_bi.append(bi2) \n",
    "        bif2 = \"{0:08b}\".format(int(fe2[i], 16))\n",
    "        fe2_bi.append(bif2)\n",
    "\n",
    "# Filtering of valid events\n",
    "\n",
    "counta = 0\n",
    "val_filt = []\n",
    "filt = []\n",
    "\n",
    "for i in range (N): \n",
    "    if (re0_bi[i][2] == \"1\" or fe0_bi[i][2] == \"1\") and (re1_bi[i][2] == \"1\" or fe1_bi[i][2] == \"1\") and (re2_bi[i][2]  == \"1\" or fe2_bi[i][2] == \"1\"):\n",
    "        val_filt = [re0_bi[i], fe0_bi[i], re1_bi[i], fe1_bi[i], re2_bi[i], fe2_bi[i], tiempo[i]]\n",
    "        counta = counta + 1\n",
    "        filt.append(val_filt)\n",
    "        \n",
    "print (\"Numero de eventos validos: \" + str(counta))"
   ]
  },
  {
   "cell_type": "code",
   "execution_count": 4,
   "metadata": {
    "collapsed": false
   },
   "outputs": [],
   "source": [
    "# Calculating the rate per second and minute\n",
    "\n",
    "filt = np.asarray(filt)\n",
    "\n",
    "rate_s = []\n",
    "Ni = len(filt)\n",
    "count_es = 0\n",
    "\n",
    "# Event rate per second\n",
    "\n",
    "for i in range(Ni-1):\n",
    "    \n",
    "    time_dif_s = float(filt[i+1, 6]) - float(filt[i, 6])\n",
    "    \n",
    "    if (time_dif_s == 0):\n",
    "        count_es = count_es + 1\n",
    "    elif (time_dif_s != 0):\n",
    "        rate_s.append([int(float(filt[i, 6])), count_es])\n",
    "        count_es = 0\n",
    "                      \n",
    "# Event rate per minute\n",
    "\n",
    "rate_s = np.asarray(rate_s)\n",
    "\n",
    "Ns = len(rate_s)\n",
    "\n",
    "rate_m = []\n",
    "count_em = 0\n",
    "\n",
    "rate_mi = 0\n",
    "time_in = rate_s[0, 0]\n",
    "\n",
    "for i in range(Ns-1):\n",
    "    \n",
    "    time_dif_m = rate_s[i+1, 0] - time_in\n",
    "\n",
    "    if time_dif_m <= 60:\n",
    "        \n",
    "        count_em = count_em + rate_s[i, 1]\n",
    "        \n",
    "    else:\n",
    "        rate_m.append([time_in, count_em])\n",
    "        count_em = 0\n",
    "        time_in = rate_s[i, 0]\n",
    "\n",
    "rate_m = np.asarray(rate_m)        "
   ]
  },
  {
   "cell_type": "code",
   "execution_count": 5,
   "metadata": {
    "collapsed": true
   },
   "outputs": [],
   "source": [
    "Area = float(25*25)"
   ]
  },
  {
   "cell_type": "code",
   "execution_count": 6,
   "metadata": {
    "collapsed": false
   },
   "outputs": [
    {
     "data": {
      "image/png": "[encoded data removed]",
      "text/plain": [
       "<matplotlib.figure.Figure at 0x7f6ae809c090>"
      ]
     },
     "metadata": {},
     "output_type": "display_data"
    }
   ],
   "source": [
    "plt.figure(figsize=(8, 5))\n",
    "plt.plot(rate_m[:,1]/Area)\n",
    "plt.ylabel(r'Hits/cm^2min', fontsize = 20)\n",
    "plt.xlabel('Time (min)', fontsize = 20)\n",
    "plt.grid()"
   ]
  },
  {
   "cell_type": "code",
   "execution_count": null,
   "metadata": {
    "collapsed": true
   },
   "outputs": [],
   "source": []
  }
 ],
 "metadata": {
  "kernelspec": {
   "display_name": "Python 2",
   "language": "python",
   "name": "python2"
  },
  "language_info": {
   "codemirror_mode": {
    "name": "ipython",
    "version": 2
   },
   "file_extension": ".py",
   "mimetype": "text/x-python",
   "name": "python",
   "nbconvert_exporter": "python",
   "pygments_lexer": "ipython2",
   "version": "2.7.6"
  }
 },
 "nbformat": 4,
 "nbformat_minor": 0
}
